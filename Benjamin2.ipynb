{
 "cells": [
  {
   "cell_type": "code",
   "execution_count": 1,
   "metadata": {
    "collapsed": false
   },
   "outputs": [],
   "source": [
    "\"\"\"\n",
    "This is an under development program.\n",
    "\"\"\"\n",
    "\n",
    "import matplotlib.pyplot as plt\n",
    "import numpy as np\n",
    "from numpy import exp, loadtxt, pi, sqrt\n",
    "import pandas as pd\n",
    "from scipy.optimize import curve_fit\n",
    "from scipy import stats\n",
    "import os"
   ]
  },
  {
   "cell_type": "code",
   "execution_count": 10,
   "metadata": {
    "collapsed": false
   },
   "outputs": [
    {
     "name": "stdout",
     "output_type": "stream",
     "text": [
      "['1:00' '' '1:00' '' '1:00' '' '1:00' '' '1:00' '' '1:00' '' '1:00' ''\n",
      " '1:00' '' '1:00' '' '1:00' '' '1:00' '' '1:00' '' '1:00' '' '1:00']\n",
      "['\"ls\" no se reconoce como un comando interno o externo,', 'programa o archivo por lotes ejecutable.']\n"
     ]
    }
   ],
   "source": [
    "files = !ls E*.txt\n",
    "\n",
    "hora = np.array(list(open(\"list.txt\",\"r\")))\n",
    "\n",
    "for i in range(len(hora)):\n",
    "    hora[i] = hora[i][:-1]\n",
    "\n",
    "print(hora)\n",
    "print(files)"
   ]
  },
  {
   "cell_type": "code",
   "execution_count": 3,
   "metadata": {
    "collapsed": false
   },
   "outputs": [
    {
     "data": {
      "text/plain": [
       "str"
      ]
     },
     "execution_count": 3,
     "metadata": {},
     "output_type": "execute_result"
    }
   ],
   "source": [
    "type(files[0])\n",
    "type(str(hora[0]))"
   ]
  },
  {
   "cell_type": "code",
   "execution_count": 9,
   "metadata": {
    "collapsed": false,
    "scrolled": true
   },
   "outputs": [
    {
     "ename": "FileNotFoundError",
     "evalue": "File b'\"ls\" no se reconoce como un comando interno o externo,' does not exist",
     "output_type": "error",
     "traceback": [
      "\u001b[0;31m---------------------------------------------------------------------------\u001b[0m",
      "\u001b[0;31mFileNotFoundError\u001b[0m                         Traceback (most recent call last)",
      "\u001b[0;32m<ipython-input-9-c8bb2379dcb2>\u001b[0m in \u001b[0;36m<module>\u001b[0;34m()\u001b[0m\n\u001b[1;32m      2\u001b[0m     \u001b[1;31m#Se lee el archivo de origen\u001b[0m\u001b[1;33m\u001b[0m\u001b[1;33m\u001b[0m\u001b[0m\n\u001b[1;32m      3\u001b[0m \u001b[1;33m\u001b[0m\u001b[0m\n\u001b[0;32m----> 4\u001b[0;31m     \u001b[0mdata\u001b[0m \u001b[1;33m=\u001b[0m \u001b[0mpd\u001b[0m\u001b[1;33m.\u001b[0m\u001b[0mread_csv\u001b[0m\u001b[1;33m(\u001b[0m\u001b[0mfil\u001b[0m\u001b[1;33m,\u001b[0m \u001b[0msep\u001b[0m\u001b[1;33m=\u001b[0m\u001b[1;34m\" \"\u001b[0m\u001b[1;33m,\u001b[0m \u001b[0mheader\u001b[0m\u001b[1;33m=\u001b[0m\u001b[1;32mNone\u001b[0m\u001b[1;33m)\u001b[0m\u001b[1;33m\u001b[0m\u001b[0m\n\u001b[0m\u001b[1;32m      5\u001b[0m     \u001b[0mdata\u001b[0m\u001b[1;33m.\u001b[0m\u001b[0mcolumns\u001b[0m \u001b[1;33m=\u001b[0m \u001b[1;33m[\u001b[0m\u001b[1;34m\"a\"\u001b[0m\u001b[1;33m,\u001b[0m \u001b[1;34m\"b\"\u001b[0m\u001b[1;33m]\u001b[0m\u001b[1;33m\u001b[0m\u001b[0m\n\u001b[1;32m      6\u001b[0m \u001b[1;33m\u001b[0m\u001b[0m\n",
      "\u001b[0;32mC:\\ProgramData\\Anaconda3\\lib\\site-packages\\pandas\\io\\parsers.py\u001b[0m in \u001b[0;36mparser_f\u001b[0;34m(filepath_or_buffer, sep, delimiter, header, names, index_col, usecols, squeeze, prefix, mangle_dupe_cols, dtype, engine, converters, true_values, false_values, skipinitialspace, skiprows, nrows, na_values, keep_default_na, na_filter, verbose, skip_blank_lines, parse_dates, infer_datetime_format, keep_date_col, date_parser, dayfirst, iterator, chunksize, compression, thousands, decimal, lineterminator, quotechar, quoting, escapechar, comment, encoding, dialect, tupleize_cols, error_bad_lines, warn_bad_lines, skipfooter, skip_footer, doublequote, delim_whitespace, as_recarray, compact_ints, use_unsigned, low_memory, buffer_lines, memory_map, float_precision)\u001b[0m\n\u001b[1;32m    644\u001b[0m                     skip_blank_lines=skip_blank_lines)\n\u001b[1;32m    645\u001b[0m \u001b[1;33m\u001b[0m\u001b[0m\n\u001b[0;32m--> 646\u001b[0;31m         \u001b[1;32mreturn\u001b[0m \u001b[0m_read\u001b[0m\u001b[1;33m(\u001b[0m\u001b[0mfilepath_or_buffer\u001b[0m\u001b[1;33m,\u001b[0m \u001b[0mkwds\u001b[0m\u001b[1;33m)\u001b[0m\u001b[1;33m\u001b[0m\u001b[0m\n\u001b[0m\u001b[1;32m    647\u001b[0m \u001b[1;33m\u001b[0m\u001b[0m\n\u001b[1;32m    648\u001b[0m     \u001b[0mparser_f\u001b[0m\u001b[1;33m.\u001b[0m\u001b[0m__name__\u001b[0m \u001b[1;33m=\u001b[0m \u001b[0mname\u001b[0m\u001b[1;33m\u001b[0m\u001b[0m\n",
      "\u001b[0;32mC:\\ProgramData\\Anaconda3\\lib\\site-packages\\pandas\\io\\parsers.py\u001b[0m in \u001b[0;36m_read\u001b[0;34m(filepath_or_buffer, kwds)\u001b[0m\n\u001b[1;32m    387\u001b[0m \u001b[1;33m\u001b[0m\u001b[0m\n\u001b[1;32m    388\u001b[0m     \u001b[1;31m# Create the parser.\u001b[0m\u001b[1;33m\u001b[0m\u001b[1;33m\u001b[0m\u001b[0m\n\u001b[0;32m--> 389\u001b[0;31m     \u001b[0mparser\u001b[0m \u001b[1;33m=\u001b[0m \u001b[0mTextFileReader\u001b[0m\u001b[1;33m(\u001b[0m\u001b[0mfilepath_or_buffer\u001b[0m\u001b[1;33m,\u001b[0m \u001b[1;33m**\u001b[0m\u001b[0mkwds\u001b[0m\u001b[1;33m)\u001b[0m\u001b[1;33m\u001b[0m\u001b[0m\n\u001b[0m\u001b[1;32m    390\u001b[0m \u001b[1;33m\u001b[0m\u001b[0m\n\u001b[1;32m    391\u001b[0m     \u001b[1;32mif\u001b[0m \u001b[1;33m(\u001b[0m\u001b[0mnrows\u001b[0m \u001b[1;32mis\u001b[0m \u001b[1;32mnot\u001b[0m \u001b[1;32mNone\u001b[0m\u001b[1;33m)\u001b[0m \u001b[1;32mand\u001b[0m \u001b[1;33m(\u001b[0m\u001b[0mchunksize\u001b[0m \u001b[1;32mis\u001b[0m \u001b[1;32mnot\u001b[0m \u001b[1;32mNone\u001b[0m\u001b[1;33m)\u001b[0m\u001b[1;33m:\u001b[0m\u001b[1;33m\u001b[0m\u001b[0m\n",
      "\u001b[0;32mC:\\ProgramData\\Anaconda3\\lib\\site-packages\\pandas\\io\\parsers.py\u001b[0m in \u001b[0;36m__init__\u001b[0;34m(self, f, engine, **kwds)\u001b[0m\n\u001b[1;32m    728\u001b[0m             \u001b[0mself\u001b[0m\u001b[1;33m.\u001b[0m\u001b[0moptions\u001b[0m\u001b[1;33m[\u001b[0m\u001b[1;34m'has_index_names'\u001b[0m\u001b[1;33m]\u001b[0m \u001b[1;33m=\u001b[0m \u001b[0mkwds\u001b[0m\u001b[1;33m[\u001b[0m\u001b[1;34m'has_index_names'\u001b[0m\u001b[1;33m]\u001b[0m\u001b[1;33m\u001b[0m\u001b[0m\n\u001b[1;32m    729\u001b[0m \u001b[1;33m\u001b[0m\u001b[0m\n\u001b[0;32m--> 730\u001b[0;31m         \u001b[0mself\u001b[0m\u001b[1;33m.\u001b[0m\u001b[0m_make_engine\u001b[0m\u001b[1;33m(\u001b[0m\u001b[0mself\u001b[0m\u001b[1;33m.\u001b[0m\u001b[0mengine\u001b[0m\u001b[1;33m)\u001b[0m\u001b[1;33m\u001b[0m\u001b[0m\n\u001b[0m\u001b[1;32m    731\u001b[0m \u001b[1;33m\u001b[0m\u001b[0m\n\u001b[1;32m    732\u001b[0m     \u001b[1;32mdef\u001b[0m \u001b[0mclose\u001b[0m\u001b[1;33m(\u001b[0m\u001b[0mself\u001b[0m\u001b[1;33m)\u001b[0m\u001b[1;33m:\u001b[0m\u001b[1;33m\u001b[0m\u001b[0m\n",
      "\u001b[0;32mC:\\ProgramData\\Anaconda3\\lib\\site-packages\\pandas\\io\\parsers.py\u001b[0m in \u001b[0;36m_make_engine\u001b[0;34m(self, engine)\u001b[0m\n\u001b[1;32m    921\u001b[0m     \u001b[1;32mdef\u001b[0m \u001b[0m_make_engine\u001b[0m\u001b[1;33m(\u001b[0m\u001b[0mself\u001b[0m\u001b[1;33m,\u001b[0m \u001b[0mengine\u001b[0m\u001b[1;33m=\u001b[0m\u001b[1;34m'c'\u001b[0m\u001b[1;33m)\u001b[0m\u001b[1;33m:\u001b[0m\u001b[1;33m\u001b[0m\u001b[0m\n\u001b[1;32m    922\u001b[0m         \u001b[1;32mif\u001b[0m \u001b[0mengine\u001b[0m \u001b[1;33m==\u001b[0m \u001b[1;34m'c'\u001b[0m\u001b[1;33m:\u001b[0m\u001b[1;33m\u001b[0m\u001b[0m\n\u001b[0;32m--> 923\u001b[0;31m             \u001b[0mself\u001b[0m\u001b[1;33m.\u001b[0m\u001b[0m_engine\u001b[0m \u001b[1;33m=\u001b[0m \u001b[0mCParserWrapper\u001b[0m\u001b[1;33m(\u001b[0m\u001b[0mself\u001b[0m\u001b[1;33m.\u001b[0m\u001b[0mf\u001b[0m\u001b[1;33m,\u001b[0m \u001b[1;33m**\u001b[0m\u001b[0mself\u001b[0m\u001b[1;33m.\u001b[0m\u001b[0moptions\u001b[0m\u001b[1;33m)\u001b[0m\u001b[1;33m\u001b[0m\u001b[0m\n\u001b[0m\u001b[1;32m    924\u001b[0m         \u001b[1;32melse\u001b[0m\u001b[1;33m:\u001b[0m\u001b[1;33m\u001b[0m\u001b[0m\n\u001b[1;32m    925\u001b[0m             \u001b[1;32mif\u001b[0m \u001b[0mengine\u001b[0m \u001b[1;33m==\u001b[0m \u001b[1;34m'python'\u001b[0m\u001b[1;33m:\u001b[0m\u001b[1;33m\u001b[0m\u001b[0m\n",
      "\u001b[0;32mC:\\ProgramData\\Anaconda3\\lib\\site-packages\\pandas\\io\\parsers.py\u001b[0m in \u001b[0;36m__init__\u001b[0;34m(self, src, **kwds)\u001b[0m\n\u001b[1;32m   1388\u001b[0m         \u001b[0mkwds\u001b[0m\u001b[1;33m[\u001b[0m\u001b[1;34m'allow_leading_cols'\u001b[0m\u001b[1;33m]\u001b[0m \u001b[1;33m=\u001b[0m \u001b[0mself\u001b[0m\u001b[1;33m.\u001b[0m\u001b[0mindex_col\u001b[0m \u001b[1;32mis\u001b[0m \u001b[1;32mnot\u001b[0m \u001b[1;32mFalse\u001b[0m\u001b[1;33m\u001b[0m\u001b[0m\n\u001b[1;32m   1389\u001b[0m \u001b[1;33m\u001b[0m\u001b[0m\n\u001b[0;32m-> 1390\u001b[0;31m         \u001b[0mself\u001b[0m\u001b[1;33m.\u001b[0m\u001b[0m_reader\u001b[0m \u001b[1;33m=\u001b[0m \u001b[0m_parser\u001b[0m\u001b[1;33m.\u001b[0m\u001b[0mTextReader\u001b[0m\u001b[1;33m(\u001b[0m\u001b[0msrc\u001b[0m\u001b[1;33m,\u001b[0m \u001b[1;33m**\u001b[0m\u001b[0mkwds\u001b[0m\u001b[1;33m)\u001b[0m\u001b[1;33m\u001b[0m\u001b[0m\n\u001b[0m\u001b[1;32m   1391\u001b[0m \u001b[1;33m\u001b[0m\u001b[0m\n\u001b[1;32m   1392\u001b[0m         \u001b[1;31m# XXX\u001b[0m\u001b[1;33m\u001b[0m\u001b[1;33m\u001b[0m\u001b[0m\n",
      "\u001b[0;32mpandas\\parser.pyx\u001b[0m in \u001b[0;36mpandas.parser.TextReader.__cinit__ (pandas\\parser.c:4184)\u001b[0;34m()\u001b[0m\n",
      "\u001b[0;32mpandas\\parser.pyx\u001b[0m in \u001b[0;36mpandas.parser.TextReader._setup_parser_source (pandas\\parser.c:8449)\u001b[0;34m()\u001b[0m\n",
      "\u001b[0;31mFileNotFoundError\u001b[0m: File b'\"ls\" no se reconoce como un comando interno o externo,' does not exist"
     ]
    }
   ],
   "source": [
    "for fil,hor in zip(files,hora):\n",
    "    #Se lee el archivo de origen\n",
    "\n",
    "    data = pd.read_csv(fil, sep=\" \", header=None)\n",
    "    data.columns = [\"a\", \"b\"]\n",
    "\n",
    "    # Se convierten los archivos del data a valores\n",
    "    ds = data.values\n",
    "    #print(ds)\n",
    "\n",
    "\n",
    "    # Se generan los datos , se utilizan los cuantiles de los 1530 datos, 85 cuantiles seleccionan 18 valores maximo\n",
    "    c=0;\n",
    "    k = 0;\n",
    "    quantil = []\n",
    "    quantil2 = []\n",
    "\n",
    "    ultimoX = []\n",
    "    ultimoY = []\n",
    "\n",
    "    OriginalX = []\n",
    "    OriginalY = []\n",
    "\n",
    "    for j in range(len(ds)):\n",
    "        OriginalX.append(ds[j][0])\n",
    "        OriginalY.append(ds[j][1]) \n",
    "\n",
    "        for i in range(len(ds)):\n",
    "            if(i // 85 == k):\n",
    "                quantil.append(ds[c][0])\n",
    "                quantil2.append(ds[c][1])  \n",
    "                c=c+1\n",
    "\n",
    "\n",
    "        k=k+1\n",
    "\n",
    "        quantil2.sort()\n",
    "       # print(quantil)\n",
    "        if(quantil2 != []): ultimoY.append(quantil2[-1])\n",
    "        quantil2 = []\n",
    "\n",
    "\n",
    "    #print(ultimoY)\n",
    "\n",
    "\n",
    "    #print(OriginalY)\n",
    "    Xcoordinate = []\n",
    "    Ycoordinate = []\n",
    "\n",
    "    for i in range(len(ultimoY)):\n",
    "\n",
    "        for j in range(len(OriginalY)):\n",
    "            if(ultimoY[i] == OriginalY[j]):\n",
    "                #print(OriginalX[j],OriginalY[j])\n",
    "                Xcoordinate.append(OriginalX[j])\n",
    "                Ycoordinate.append(OriginalY[j]) \n",
    "\n",
    "\n",
    "    #print(Xcoordinate, Ycoordinate)\n",
    "\n",
    "    #print(data)\n",
    "    #me dice el numero de filas por columnas\n",
    "    #data.shape\n",
    "    data.plot(x='a',y='b',color='red',marker='.',linestyle='dashed',linewidth=0,markersize=2.0, label=hor)\n",
    "    plt.plot(Xcoordinate, Ycoordinate, color='blue',marker='.',linewidth=0)\n",
    "    plt.tight_layout()\n",
    "    plt.show()\n",
    "\n",
    "    # SE REALIZA EL AJUSTE LINEAL\n",
    "    slope, intercept, r_value, p_value, std_err = stats.linregress(Xcoordinate, Ycoordinate)\n",
    "    #print(\"slope: %f    intercept: %f\" % (slope, intercept))\n",
    "    #print(\"R-squared: %f\" % r_value**2)\n",
    "    pendiente = np.zeros(len(Xcoordinate))+slope\n",
    "    corte = np.zeros(len(Xcoordinate))+intercept\n",
    "    #print(pendiente,corte)\n",
    "    data.plot(x='a',y='b',color='red',marker='.',linewidth=0,markersize=1.5,label=hor)\n",
    "    plt.xlabel(\"Pixeles\")\n",
    "    plt.ylabel(\"Cuentas\")\n",
    "    plt.legend(loc='upper right')\n",
    "    plt.title(\"Espectro \"+str(fil)[1:-4])\n",
    "    plt.plot(Xcoordinate, Ycoordinate, color='black',marker='.',linewidth=0, label=hor)\n",
    "    plt.plot(Xcoordinate, corte + pendiente*Xcoordinate,color='blue',linewidth=1, label=hor)\n",
    "    plt.tight_layout()\n",
    "    plt.savefig(\"./Figures/\"+str(fil)[:-4]+\".pdf\",dpi=600)\n",
    "    plt.show()\n",
    "\n",
    "\n",
    "\n",
    "    #SE VUELVE A LLENAR LA LISTA CON EL FIN DE GENERAR DE NUEVO LA GRAFICA DE LA NORMALIZACION\n",
    "    OriginalX = []\n",
    "    OriginalY = []\n",
    "\n",
    "    for j in range(len(ds)):\n",
    "        OriginalX.append(ds[j][0])\n",
    "        OriginalY.append(ds[j][1]) \n",
    "\n",
    "    p1=np.zeros(len(OriginalX))+slope\n",
    "    c1=np.zeros(len(OriginalX))+intercept\n",
    "\n",
    "    #print(c1+p1*OriginalX)\n",
    "    NormY = c1+p1*OriginalX\n",
    "    NewY = OriginalY/NormY\n",
    "    print(len(OriginalX))\n",
    "    print(len(NewY))\n",
    "    plt.plot(OriginalX, NewY,color='blue', label=hor,marker='.',markersize=1.5,linewidth=0.5)\n",
    "    plt.xlabel(\"Pixeles\")\n",
    "    plt.ylabel(\"Cuentas\")\n",
    "    plt.legend(loc='lower right')\n",
    "    plt.title(\"Espectro \"+str(fil)[1:-4])\n",
    "    plt.tight_layout()\n",
    "    plt.savefig(\"./Figures/\"+str(fil)[:-4]+\"_Norm\"+\".pdf\",dpi=600)\n",
    "    plt.show()"
   ]
  },
  {
   "cell_type": "code",
   "execution_count": 5,
   "metadata": {
    "collapsed": false
   },
   "outputs": [
    {
     "ename": "NameError",
     "evalue": "name 'NewY' is not defined",
     "output_type": "error",
     "traceback": [
      "\u001b[0;31m---------------------------------------------------------------------------\u001b[0m",
      "\u001b[0;31mNameError\u001b[0m                                 Traceback (most recent call last)",
      "\u001b[0;32m<ipython-input-5-680991e2e0f0>\u001b[0m in \u001b[0;36m<module>\u001b[0;34m()\u001b[0m\n\u001b[0;32m----> 1\u001b[0;31m \u001b[0mprint\u001b[0m\u001b[1;33m(\u001b[0m\u001b[0mNewY\u001b[0m\u001b[1;33m)\u001b[0m\u001b[1;33m\u001b[0m\u001b[0m\n\u001b[0m",
      "\u001b[0;31mNameError\u001b[0m: name 'NewY' is not defined"
     ]
    }
   ],
   "source": [
    "print(NewY)"
   ]
  },
  {
   "cell_type": "code",
   "execution_count": 8,
   "metadata": {
    "collapsed": false,
    "scrolled": true
   },
   "outputs": [
    {
     "name": "stdout",
     "output_type": "stream",
     "text": [
      "[ -2.02692658  22.69741826 -59.11514592]\n",
      "[-2.0269265829141503]\n",
      "[22.697418264924544]\n",
      "5.59897394811\n",
      "[ 8.9052102   5.66059299  0.70059492]\n"
     ]
    },
    {
     "data": {
      "image/png": "[encoded data removed]",
      "text/plain": [
       "<matplotlib.figure.Figure at 0x24b497600b8>"
      ]
     },
     "metadata": {},
     "output_type": "display_data"
    }
   ],
   "source": [
    "data = loadtxt('model1d_gauss.dat')\n",
    "#print(data)\n",
    "xgauss = data[:, 0]\n",
    "ygauss = data[:, 1]\n",
    "\n",
    "def gaussian(L, a, c, w):\n",
    "    \"\"\"1-d gaussian: gaussian(x, amp, cen, wid)\"\"\"\n",
    "    return (a / (sqrt(2*pi) * w)) * exp(-(L-c)**2 / (2*w**2))\n",
    "def cuadratic(L, A, B, C):\n",
    "    return (A*L*L+B*L+C)\n",
    "poptc, pcovc = curve_fit(cuadratic, xgauss, ygauss, maxfev=10000)\n",
    "print(poptc)\n",
    "A = [poptc[0]]\n",
    "B = [poptc[1]]\n",
    "print(A)\n",
    "print(B)\n",
    "\n",
    "vertice = -22.69741826/(2*(-2.02692658))\n",
    "vertice = -B[0]/(2.0*A[0])\n",
    "print(vertice)\n",
    "\n",
    "#print(OriginalX)\n",
    "#print(NewY)\n",
    "popt, pcov = curve_fit(gaussian, xgauss, ygauss, maxfev=10000)\n",
    "print(popt)\n",
    "plt.plot(xgauss, ygauss,color='blue', label=hor,marker='.',markersize=2.0,linewidth=0)\n",
    "plt.plot(xgauss, gaussian(xgauss, *popt), 'r-')\n",
    "plt.plot(xgauss, cuadratic(xgauss, *poptc),color='green')\n",
    "plt.show()"
   ]
  },
  {
   "cell_type": "code",
   "execution_count": 25,
   "metadata": {
    "collapsed": false
   },
   "outputs": [],
   "source": [
    "import numpy as np\n",
    "OriginalXX = np.array([0, 2])\n",
    "NewYY = np.array([3, 4])\n",
    "\n",
    "normdat = open ('test.txt','w')\n",
    "\n",
    "for K in range(len(OriginalXX)):\n",
    "    \n",
    "    normdat.write(str(OriginalXX[K]))\n",
    "    normdat.write(\" \")\n",
    "    normdat.write(str(NewYY[K]))\n",
    "    normdat.write(\"\\n\")\n",
    "\n",
    "normdat.close()"
   ]
  },
  {
   "cell_type": "code",
   "execution_count": null,
   "metadata": {
    "collapsed": true
   },
   "outputs": [],
   "source": []
  }
 ],
 "metadata": {
  "kernelspec": {
   "display_name": "Python 3",
   "language": "python",
   "name": "python3"
  },
  "language_info": {
   "codemirror_mode": {
    "name": "ipython",
    "version": 3
   },
   "file_extension": ".py",
   "mimetype": "text/x-python",
   "name": "python",
   "nbconvert_exporter": "python",
   "pygments_lexer": "ipython3",
   "version": "3.6.0"
  }
 },
 "nbformat": 4,
 "nbformat_minor": 2
}
